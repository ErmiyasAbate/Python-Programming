{
 "cells": [
  {
   "cell_type": "markdown",
   "source": [
    "### Part 1 - 150 Python Exercises\n",
    "https://www.w3resource.com/python-exercises/python-basic-exercises.php"
   ],
   "metadata": {
    "collapsed": false
   }
  },
  {
   "cell_type": "markdown",
   "source": [
    "### Solutions"
   ],
   "metadata": {
    "collapsed": false
   }
  },
  {
   "cell_type": "markdown",
   "source": [
    "### <b>1\n",
    "Write a Python program to print the following string in a specific format (see the output).<br>\n",
    "Sample String : <br></b><i>\n",
    "Twinkle, twinkle, little star,<br>\n",
    "$\\;\\;\\;\\;\\;\\;$How I wonder what you are!<br>\n",
    "$\\;\\;\\;\\;\\;\\;$$\\;\\;\\;\\;\\;\\;$Up above the world so high,<br>\n",
    "$\\;\\;\\;\\;\\;\\;$$\\;\\;\\;\\;\\;\\;$Like a diamond in the sky.<br>\n",
    "Twinkle, twinkle, little star,<br>\n",
    "$\\;\\;\\;\\;\\;\\;$How I wonder what you are!<br>"
   ],
   "metadata": {
    "collapsed": false,
    "pycharm": {
     "name": "#%% md\n"
    }
   }
  },
  {
   "cell_type": "code",
   "execution_count": 33,
   "outputs": [
    {
     "name": "stdout",
     "output_type": "stream",
     "text": [
      "Twinkle, twinkle, little star,\n",
      "\tHow I wonder what you are!\n",
      "\t\tUp above the world so high,\n",
      "\t\tLike a diamond in the sky.\n",
      "Twinkle, twinkle, little star,\n",
      "\tHow I wonder what you are!\n"
     ]
    }
   ],
   "source": [
    "print(\"Twinkle, twinkle, little star,\"\n",
    "      \"\\n\\tHow I wonder what you are!\"\n",
    "      \"\\n\\t\\tUp above the world so high,\"\n",
    "      \"\\n\\t\\tLike a diamond in the sky.\"\n",
    "      \"\\nTwinkle, twinkle, little star,\"\n",
    "      \"\\n\\tHow I wonder what you are!\")"
   ],
   "metadata": {
    "collapsed": false,
    "pycharm": {
     "name": "#%%\n"
    }
   }
  },
  {
   "cell_type": "markdown",
   "source": [
    "### <b>2\n",
    "Write a Python program to get the Python version you are using."
   ],
   "metadata": {
    "collapsed": false,
    "pycharm": {
     "name": "#%% md\n"
    }
   }
  },
  {
   "cell_type": "code",
   "execution_count": 34,
   "outputs": [
    {
     "name": "stdout",
     "output_type": "stream",
     "text": [
      "Python Version  3.8.8 (tags/v3.8.8:024d805, Feb 19 2021, 13:18:16) [MSC v.1928 64 bit (AMD64)]\n"
     ]
    }
   ],
   "source": [
    "import sys\n",
    "\n",
    "print(\"Python Version \", sys.version)"
   ],
   "metadata": {
    "collapsed": false,
    "pycharm": {
     "name": "#%%\n"
    }
   }
  },
  {
   "cell_type": "markdown",
   "source": [
    "### <b>3\n",
    "Write a Python program to display the current date and time.<br></b>\n",
    "<i>Sample Output :<br>\n",
    "<i>Current date and time :<br>\n",
    "<i>2022-01-30 22:34:43.778521"
   ],
   "metadata": {
    "collapsed": false,
    "pycharm": {
     "name": "#%% md\n"
    }
   }
  },
  {
   "cell_type": "code",
   "execution_count": 35,
   "outputs": [
    {
     "name": "stdout",
     "output_type": "stream",
     "text": [
      "Current date and time:\n",
      "2022-01-30 22:58:24.934237\n"
     ]
    }
   ],
   "source": [
    "import datetime\n",
    "\n",
    "print(\"Current date and time:\\n\" + str(datetime.datetime.now()))"
   ],
   "metadata": {
    "collapsed": false,
    "pycharm": {
     "name": "#%%\n"
    }
   }
  },
  {
   "cell_type": "markdown",
   "source": [
    "### <b> 4\n",
    "Write a Python program which accepts the radius of a circle from the user and compute the area.</b><br><i>\n",
    "Sample Output :<br>\n",
    "r = 1.1<br>\n",
    "Area = 3.8013271108436504<br>"
   ],
   "metadata": {
    "collapsed": false,
    "pycharm": {
     "name": "#%% md\n"
    }
   }
  },
  {
   "cell_type": "code",
   "execution_count": 39,
   "outputs": [
    {
     "name": "stdout",
     "output_type": "stream",
     "text": [
      "r = 1.1\n",
      "Area = 3.8013271108436504\n"
     ]
    }
   ],
   "source": [
    "import math\n",
    "\n",
    "pi = math.pi\n",
    "radius = float(input(\"Enter the radius of the circle: \"))\n",
    "\n",
    "print(\"r =\", str(radius))\n",
    "print(\"Area =\", pi * (radius * radius))"
   ],
   "metadata": {
    "collapsed": false,
    "pycharm": {
     "name": "#%%\n"
    }
   }
  },
  {
   "cell_type": "markdown",
   "source": [
    "### <b> 5\n",
    "\n",
    "Write a Python program which accepts the user's first and last name and print them in reverse order with a space between them."
   ],
   "metadata": {
    "collapsed": false
   }
  },
  {
   "cell_type": "code",
   "execution_count": 40,
   "outputs": [
    {
     "name": "stdout",
     "output_type": "stream",
     "text": [
      "Hello Abate KaleAb\n"
     ]
    }
   ],
   "source": [
    "firstName = input(\"Enter your first name: \")\n",
    "lastName = input(\"Enter your last name: \")\n",
    "\n",
    "print(\"Hello \" + lastName + \" \" + firstName)"
   ],
   "metadata": {
    "collapsed": false,
    "pycharm": {
     "name": "#%%\n"
    }
   }
  },
  {
   "cell_type": "markdown",
   "source": [
    "### <b> 6\n",
    "Write a Python program which accepts a sequence of comma-separated numbers from user and generate a list and a tuple with those numbers.</b><br><i>\n",
    "Sample data : 3, 5, 7, 23<br>\n",
    "Output :<br>\n",
    "List : ['3', ' 5', ' 7', ' 23']<br>\n",
    "Tuple : ('3', ' 5', ' 7', ' 23')"
   ],
   "metadata": {
    "collapsed": false
   }
  },
  {
   "cell_type": "code",
   "execution_count": 41,
   "outputs": [
    {
     "name": "stdout",
     "output_type": "stream",
     "text": [
      "list: ['3', '5', '7', '23']\n",
      "Tuple: ('3', '5', '7', '23')\n"
     ]
    }
   ],
   "source": [
    "num = input(\"Enter the numbers: \")\n",
    "\n",
    "listNumber = num.split(\",\")\n",
    "print(\"list:\", listNumber)\n",
    "tupleNumber = tuple(listNumber)\n",
    "print(\"Tuple:\", tupleNumber)"
   ],
   "metadata": {
    "collapsed": false,
    "pycharm": {
     "name": "#%%\n"
    }
   }
  },
  {
   "cell_type": "markdown",
   "source": [
    "### <b> 7\n",
    "Write a Python program to accept a filename from the user and print the extension of that.</b><br><i>\n",
    "Sample filename : abc.java<br>\n",
    "Output : java"
   ],
   "metadata": {
    "collapsed": false
   }
  },
  {
   "cell_type": "code",
   "execution_count": 42,
   "outputs": [
    {
     "name": "stdout",
     "output_type": "stream",
     "text": [
      "The extension of the file is : 'html'\n"
     ]
    }
   ],
   "source": [
    "fileName = input(\"Input the Filename: \")\n",
    "fileExtension = fileName.split(\".\")\n",
    "print(\"The extension of the file is : \" + repr(fileExtension[-1]))"
   ],
   "metadata": {
    "collapsed": false,
    "pycharm": {
     "name": "#%%\n"
    }
   }
  },
  {
   "cell_type": "markdown",
   "source": [
    "### <b> 8\n",
    "Write a Python program to display the first and last colors from the following list.</b><br><i>\n",
    "color_list = [\"Red\",\"Green\",\"White\" ,\"Black\"]"
   ],
   "metadata": {
    "collapsed": false
   }
  },
  {
   "cell_type": "code",
   "execution_count": 44,
   "outputs": [
    {
     "name": "stdout",
     "output_type": "stream",
     "text": [
      "The first color is Red and the last color is Black\n",
      "Red Black\n"
     ]
    }
   ],
   "source": [
    "color_list = [\"Red\", \"Green\", \"White\", \"Black\"]\n",
    "\n",
    "print(\"The first color is \" + color_list[0] + \" and the last color is \" + color_list[-1])\n",
    "print(\"%s %s\" % (color_list[0], color_list[-1]))"
   ],
   "metadata": {
    "collapsed": false,
    "pycharm": {
     "name": "#%%\n"
    }
   }
  },
  {
   "cell_type": "markdown",
   "source": [
    "### <b> 9\n",
    "Write a Python program to display the examination schedule. (extract the date from exam_st_date). </b><br><i>\n",
    "exam_st_date = (11, 12, 2014)<br>\n",
    "Sample Output : The examination will start from : 11 / 12 / 2014"
   ],
   "metadata": {
    "collapsed": false
   }
  },
  {
   "cell_type": "code",
   "execution_count": 45,
   "outputs": [
    {
     "name": "stdout",
     "output_type": "stream",
     "text": [
      "The examination will start from : 11 / 12 / 2014\n"
     ]
    }
   ],
   "source": [
    "exam_st_date = (11, 12, 2014)\n",
    "print(\"The examination will start from : %i / %i / %i\" % exam_st_date)"
   ],
   "metadata": {
    "collapsed": false,
    "pycharm": {
     "name": "#%%\n"
    }
   }
  },
  {
   "cell_type": "markdown",
   "source": [
    "### <b> 10\n",
    "Write a Python program that accepts an integer (n) and computes the value of n+nn+nnn.</b><br><i>\n",
    "Sample value of n is 5n = int(input(\"Enter the number of n: \")<\n",
    "\n",
    "Sample value of n is 5<br>\n",
    "Expected Result : 615"
   ],
   "metadata": {
    "collapsed": false
   }
  },
  {
   "cell_type": "code",
   "execution_count": 66,
   "outputs": [
    {
     "name": "stdout",
     "output_type": "stream",
     "text": [
      "Sample value of n is 5\n",
      "Expected Result :  615\n"
     ]
    }
   ],
   "source": [
    "n = input(\"Enter the number: \")\n",
    "n1 = n\n",
    "n2 = n + n\n",
    "n3 = n + n + n\n",
    "\n",
    "total = int(n1) + int(n2) + int(n3)\n",
    "\n",
    "print(\"Sample value of n is \" + n)\n",
    "print(\"Expected Result : \", total)\n",
    "\n",
    "# a = int(input(\"Input an integer : \"))\n",
    "# n1 = int( \"%s\" % a )\n",
    "# n2 = int( \"%s%s\" % (a,a) )\n",
    "# n3 = int( \"%s%s%s\" % (a,a,a) )\n",
    "# print (n1+n2+n3)\n"
   ],
   "metadata": {
    "collapsed": false,
    "pycharm": {
     "name": "#%%\n"
    }
   }
  }
 ],
 "metadata": {
  "kernelspec": {
   "name": "pycharm-301f46a6",
   "language": "python",
   "display_name": "PyCharm (Machine Learning)"
  },
  "language_info": {
   "codemirror_mode": {
    "name": "ipython",
    "version": 2
   },
   "file_extension": ".py",
   "mimetype": "text/x-python",
   "name": "python",
   "nbconvert_exporter": "python",
   "pygments_lexer": "ipython2",
   "version": "2.7.6"
  }
 },
 "nbformat": 4,
 "nbformat_minor": 0
}